{
 "cells": [
  {
   "cell_type": "markdown",
   "metadata": {},
   "source": [
    "# 多维异常检测算法仿真（算法实践）"
   ]
  },
  {
   "cell_type": "markdown",
   "metadata": {},
   "source": [
    "## 1、数据采集"
   ]
  },
  {
   "cell_type": "markdown",
   "metadata": {},
   "source": [
    "> 读取 CPU\\磁盘读\\磁盘写\\网络出口\\网络入口\\内存等监控指标，数据来源：广西科大数据（2017.1-2017.2）"
   ]
  },
  {
   "cell_type": "code",
   "execution_count": 24,
   "metadata": {
    "collapsed": false
   },
   "outputs": [],
   "source": [
    "import numpy as np\n",
    "import pandas as pd\n",
    "from pandas import Series,DataFrame\n",
    "import matplotlib.pyplot as plt\n",
    "%matplotlib inline\n",
    "plt.rc('figure', figsize=(15, 6))\n",
    "from dateutil.parser import parse\n",
    "from sklearn.metrics import r2_score"
   ]
  },
  {
   "cell_type": "code",
   "execution_count": 25,
   "metadata": {
    "collapsed": false
   },
   "outputs": [],
   "source": [
    "vCpuUsage = pd.read_excel('../ECUST data/Guangxi university data 20170228/CPU_20170228171221.xlsx',converters={u'时间':parse})\n",
    "vDiskRead = pd.read_excel('../ECUST data/Guangxi university data 20170228/DiskRead_20170228171404.xlsx',converters={u'时间':parse})\n",
    "vDiskWrite = pd.read_excel('../ECUST data/Guangxi university data 20170228/DiskWrite_20170228171432.xlsx',converters={u'时间':parse})\n",
    "vNwEgress = pd.read_excel('../ECUST data/Guangxi university data 20170228/NwEgress_20170228171526.xlsx',converters={u'时间':parse})\n",
    "vNwIngress = pd.read_excel('../ECUST data/Guangxi university data 20170228/NwIngress_20170228171623.xlsx',converters={u'时间':parse})\n",
    "vMemUsage = pd.read_excel('../ECUST data/Guangxi university data 20170228/Memory_20170228171333.xlsx',converters={u'时间':parse})"
   ]
  },
  {
   "cell_type": "markdown",
   "metadata": {},
   "source": [
    "## 2.数据预处理"
   ]
  },
  {
   "cell_type": "code",
   "execution_count": 26,
   "metadata": {
    "collapsed": false
   },
   "outputs": [],
   "source": [
    "import time\n",
    "start=time.time()\n",
    "\n",
    "### 2.1、修改index和columns\n",
    "for var in (vCpuUsage,vDiskRead,vDiskWrite,vNwEgress,vNwIngress,vMemUsage):\n",
    "    var.rename(columns={u'资源':'vres',u'类型':'vtype',u'时间':'vtime',u'最大值':'vmax',u'最小值':'vmin',u'平均值':'vavg',u'单位':'vunit'},\n",
    "               inplace = True)\n",
    "    if 'vtime' in var.columns.values:\n",
    "        var.set_index('vtime',inplace=True) \n",
    "\n",
    "### 2.2、初步探索时间序列数据,形成待分析多维数据矩阵X\n",
    "X = pd.concat([vCpuUsage.to_period('Min').vavg,\n",
    "               vDiskRead.to_period('Min').vavg,\n",
    "               vDiskWrite.to_period('Min').vavg,\n",
    "               vNwEgress.to_period('Min').vavg,\n",
    "               vNwIngress.to_period('Min').vavg,\n",
    "               vMemUsage.to_period('Min').vavg],axis=1,keys=['vCpuUsage','vDiskRead','vDiskWrite','vNwEgress','vNwIngress','vMemUsage'])\n",
    "\n",
    "### 2.3、对缺失数据进行插值处理\n",
    "#设定初始值后，对NaN进行线性插值\n",
    "X.ix[0,X.ix[0].isnull()]=0\n",
    "X.interpolate(method='time',inplace=True)\n",
    "\n",
    "### 2.4、对CPU 0值数据进行填充\n",
    "for i in range(1,len(X.vCpuUsage)):\n",
    "    if X.vCpuUsage[i]==0:\n",
    "        X.vCpuUsage[i] = X.vCpuUsage[i-1] \n",
    "\n",
    "#保留原始值\n",
    "X_Original=X\n",
    "\n",
    "### 2.5、无量纲化\n",
    "from sklearn import preprocessing\n",
    "from sklearn.preprocessing import MinMaxScaler\n",
    "\n",
    "X = DataFrame(MinMaxScaler().fit_transform(X_Original),index=X_Original.index,columns=X_Original.columns)\n",
    "\n",
    "#区间缩放后再将均值0化，这主要是由于部分算法会自行对均值进行处理（比如pca的transform），为避免算法理解上的干扰，调整均值为0\n",
    "X_mean=X.mean()\n",
    "X_std=X.std()\n",
    "X = X-X_mean"
   ]
  },
  {
   "cell_type": "markdown",
   "metadata": {},
   "source": [
    "## 3、PCA降维分析"
   ]
  },
  {
   "cell_type": "code",
   "execution_count": 27,
   "metadata": {
    "collapsed": false
   },
   "outputs": [],
   "source": [
    "from sklearn.decomposition import PCA\n",
    "import numpy.linalg as nlg\n",
    "\n",
    "### 3.1、PCA数据探索\n",
    "X_pca=PCA().fit(X)\n",
    "\n",
    "### 3.2、确定主成分个数\n",
    "#指定主成分的方差和所占的最小比例阈值为0.85\n",
    "X_pca=PCA(n_components=0.85).fit(X)"
   ]
  },
  {
   "cell_type": "markdown",
   "metadata": {},
   "source": [
    "## 4、ICA独立元分析方法的异常检测应用"
   ]
  },
  {
   "cell_type": "code",
   "execution_count": 28,
   "metadata": {
    "collapsed": false
   },
   "outputs": [
    {
     "name": "stdout",
     "output_type": "stream",
     "text": [
      "anomal periods detected by T2 metric are: \n",
      "(Period('2017-01-12 15:44', 'T'), Period('2017-01-12 15:44', 'T'))\n",
      "(Period('2017-01-12 16:05', 'T'), Period('2017-01-12 16:05', 'T'))\n",
      "(Period('2017-01-14 16:13', 'T'), Period('2017-01-14 16:53', 'T'))\n",
      "(Period('2017-02-15 15:45', 'T'), Period('2017-02-15 17:48', 'T'))\n",
      "(Period('2017-02-20 10:31', 'T'), Period('2017-02-20 10:31', 'T'))\n",
      "(Period('2017-02-20 11:01', 'T'), Period('2017-02-20 11:16', 'T'))\n",
      "(Period('2017-02-20 11:30', 'T'), Period('2017-02-20 11:38', 'T'))\n",
      "(Period('2017-02-20 11:49', 'T'), Period('2017-02-20 12:03', 'T'))\n",
      "(Period('2017-02-20 16:25', 'T'), Period('2017-02-20 17:21', 'T'))\n",
      "(Period('2017-02-25 11:05', 'T'), Period('2017-02-25 11:05', 'T'))\n",
      "(Period('2017-02-28 11:37', 'T'), Period('2017-02-28 11:41', 'T'))\n",
      "anomal periods detected by SPE metric are: \n",
      "(Period('2017-01-16 10:22', 'T'), Period('2017-01-16 10:32', 'T'))\n",
      "(Period('2017-01-18 09:50', 'T'), Period('2017-01-18 10:09', 'T'))\n",
      "(Period('2017-01-18 10:44', 'T'), Period('2017-01-18 10:47', 'T'))\n",
      "(Period('2017-01-20 12:36', 'T'), Period('2017-01-20 12:55', 'T'))\n",
      "(Period('2017-01-21 15:23', 'T'), Period('2017-01-21 15:43', 'T'))\n",
      "(Period('2017-02-20 10:23', 'T'), Period('2017-02-20 10:35', 'T'))\n",
      "(Period('2017-02-20 10:56', 'T'), Period('2017-02-20 11:25', 'T'))\n",
      "(Period('2017-02-20 11:41', 'T'), Period('2017-02-20 12:23', 'T'))\n",
      "(Period('2017-02-20 12:36', 'T'), Period('2017-02-20 12:48', 'T'))\n",
      "(Period('2017-02-20 13:27', 'T'), Period('2017-02-20 13:44', 'T'))\n",
      "(Period('2017-02-20 15:23', 'T'), Period('2017-02-20 15:27', 'T'))\n",
      "(Period('2017-02-20 16:27', 'T'), Period('2017-02-20 16:34', 'T'))\n",
      "(Period('2017-02-20 18:15', 'T'), Period('2017-02-20 18:46', 'T'))\n",
      "(Period('2017-02-20 19:02', 'T'), Period('2017-02-20 19:22', 'T'))\n",
      "(Period('2017-02-22 10:22', 'T'), Period('2017-02-22 10:26', 'T'))\n",
      "(Period('2017-02-25 09:22', 'T'), Period('2017-02-25 09:22', 'T'))\n",
      "(Period('2017-02-25 11:40', 'T'), Period('2017-02-25 11:40', 'T'))\n",
      "算法用时： 4.113318204879761 s\n"
     ]
    }
   ],
   "source": [
    "### 4.1、ICA\n",
    "from sklearn.decomposition import FastICA\n",
    "\n",
    "X_ica=FastICA(n_components=X_pca.n_components_).fit(X)\n",
    "X_S_=X_ica.transform(X)\n",
    "\n",
    "#各种算法的变量统一，便于后续计算\n",
    "X_ica_mixing_=X_ica.mixing_\n",
    "X_ica_mean_=X_ica.mean_\n",
    "\n",
    "X_ica_recover=DataFrame(np.dot(X_S_,X_ica_mixing_.T)+X_ica_mean_,index=X.index,columns=X.columns)\n",
    "\n",
    "### 4.2、构造T2和SPE统计量\n",
    "#计算T2统计量\n",
    "X_ica_T2=Series(np.sum(X_S_**2,axis=1),index=X.index)\n",
    "\n",
    "#计算SPE统计量\n",
    "X_ica_SPE=Series(np.sum((X-X_ica_recover)**2,axis=1),index=X.index)\n",
    "\n",
    "### 4.3、采用KDE方法，利用置信度确定阈值\n",
    "from scipy import stats\n",
    "\n",
    "def my_kde_bandwidth(obj, fac=1./2):\n",
    "    \"\"\"We use Scott's Rule, multiplied by a constant factor.\"\"\"\n",
    "    return np.power(obj.n, -1./(obj.d+4)) * fac\n",
    "\n",
    "X_ica_T2_scipy_kde=stats.gaussian_kde(X_ica_T2, bw_method=my_kde_bandwidth)\n",
    "X_ica_SPE_scipy_kde=stats.gaussian_kde(X_ica_SPE, bw_method=my_kde_bandwidth)\n",
    "\n",
    "def get_threshold_of_scipy_kde(kde,start,step=1,confidence=0.997):\n",
    "    \"\"\"get threshold by confidence\"\"\"\n",
    "    i = start\n",
    "    cumsum = kde.integrate_box_1d(-np.inf, start)\n",
    "    while True:\n",
    "        if cumsum >= confidence:\n",
    "            break\n",
    "        cumsum = cumsum + kde.integrate_box_1d(i, i+step)\n",
    "        i = i + step\n",
    "        \n",
    "    return i\n",
    "\n",
    "# 通过概率密度函数求解概率时的累加步长设置(中位数与最大值距离100步)\n",
    "X_ica_T2_pdf_step=(X_ica_T2.max()-X_ica_T2.median())/100\n",
    "X_ica_SPE_pdf_step=(X_ica_SPE.max()-X_ica_SPE.median())/100\n",
    "\n",
    "X_ica_T2_threshold=get_threshold_of_scipy_kde(X_ica_T2_scipy_kde,X_ica_T2.min(),step=X_ica_T2_pdf_step,confidence=0.997)\n",
    "X_ica_SPE_threshold=get_threshold_of_scipy_kde(X_ica_SPE_scipy_kde,X_ica_SPE.min(),step=X_ica_SPE_pdf_step,confidence=0.997)\n",
    "\n",
    "### 4.4、检测到的异常时刻\n",
    "\n",
    "#### 4.4.1、T2检测\n",
    "X_ica_T2_anomaly=X_ica_T2[X_ica_T2>X_ica_T2_threshold].index\n",
    "#10min聚合，注意第一个元素的处理\n",
    "indice=pd.Series([True]+list(np.diff(X_ica_T2_anomaly)>10))\n",
    "\n",
    "X_ica_T2_anomaly_start=X_ica_T2_anomaly[indice].tolist()\n",
    "X_ica_T2_anomaly_end=X_ica_T2_anomaly[indice.shift(-1).fillna(False)].tolist()\n",
    "X_ica_T2_anomaly_end.append(X_ica_T2_anomaly[-1])\n",
    "\n",
    "print('anomal periods detected by T2 metric are: ')\n",
    "for each in zip(X_ica_T2_anomaly_start,X_ica_T2_anomaly_end):    \n",
    "    print(each)\n",
    "\n",
    "#### 4.4.2、SPE检测\n",
    "X_ica_SPE_anomaly=X_ica_SPE[X_ica_SPE>X_ica_SPE_threshold].index\n",
    "indice=pd.Series([True]+list(np.diff(X_ica_SPE_anomaly)>10))\n",
    "\n",
    "X_ica_SPE_anomaly_start=X_ica_SPE_anomaly[indice].tolist()\n",
    "X_ica_SPE_anomaly_end=X_ica_SPE_anomaly[indice.shift(-1).fillna(False)].tolist()\n",
    "X_ica_SPE_anomaly_end.append(X_ica_SPE_anomaly[-1])\n",
    "\n",
    "print('anomal periods detected by SPE metric are: ')\n",
    "for each in zip(X_ica_SPE_anomaly_start,X_ica_SPE_anomaly_end):\n",
    "    print(each)\n",
    "\n",
    "print('算法用时：',time.time()-start,'s')"
   ]
  },
  {
   "cell_type": "code",
   "execution_count": null,
   "metadata": {
    "collapsed": true
   },
   "outputs": [],
   "source": []
  }
 ],
 "metadata": {
  "kernelspec": {
   "display_name": "Python 3",
   "language": "python",
   "name": "python3"
  },
  "language_info": {
   "codemirror_mode": {
    "name": "ipython",
    "version": 3
   },
   "file_extension": ".py",
   "mimetype": "text/x-python",
   "name": "python",
   "nbconvert_exporter": "python",
   "pygments_lexer": "ipython3",
   "version": "3.5.1"
  }
 },
 "nbformat": 4,
 "nbformat_minor": 0
}
