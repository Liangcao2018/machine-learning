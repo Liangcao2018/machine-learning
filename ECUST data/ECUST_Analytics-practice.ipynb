{
 "cells": [
  {
   "cell_type": "markdown",
   "metadata": {},
   "source": [
    "# 多维异常检测算法仿真（算法实践）"
   ]
  },
  {
   "cell_type": "markdown",
   "metadata": {},
   "source": [
    "## 1、数据采集"
   ]
  },
  {
   "cell_type": "markdown",
   "metadata": {},
   "source": [
    "> 读取 CPU\\磁盘读\\磁盘写\\网络出口\\网络入口\\内存等监控指标，数据来源：广西科大数据（2017.1-2017.2）"
   ]
  },
  {
   "cell_type": "code",
   "execution_count": 1,
   "metadata": {
    "collapsed": false
   },
   "outputs": [],
   "source": [
    "import numpy as np\n",
    "import pandas as pd\n",
    "from pandas import Series,DataFrame\n",
    "import matplotlib.pyplot as plt\n",
    "%matplotlib inline\n",
    "plt.rc('figure', figsize=(15, 6))\n",
    "from dateutil.parser import parse\n",
    "from sklearn.metrics import r2_score"
   ]
  },
  {
   "cell_type": "code",
   "execution_count": 2,
   "metadata": {
    "collapsed": false
   },
   "outputs": [],
   "source": [
    "vCpuUsage = pd.read_excel('../ECUST data/Guangxi university data 20170228/CPU_20170228171221.xlsx',converters={u'时间':parse})\n",
    "vDiskRead = pd.read_excel('../ECUST data/Guangxi university data 20170228/DiskRead_20170228171404.xlsx',converters={u'时间':parse})\n",
    "vDiskWrite = pd.read_excel('../ECUST data/Guangxi university data 20170228/DiskWrite_20170228171432.xlsx',converters={u'时间':parse})\n",
    "vNwEgress = pd.read_excel('../ECUST data/Guangxi university data 20170228/NwEgress_20170228171526.xlsx',converters={u'时间':parse})\n",
    "vNwIngress = pd.read_excel('../ECUST data/Guangxi university data 20170228/NwIngress_20170228171623.xlsx',converters={u'时间':parse})\n",
    "vMemUsage = pd.read_excel('../ECUST data/Guangxi university data 20170228/Memory_20170228171333.xlsx',converters={u'时间':parse})"
   ]
  },
  {
   "cell_type": "markdown",
   "metadata": {},
   "source": [
    "## 2.数据预处理"
   ]
  },
  {
   "cell_type": "code",
   "execution_count": 3,
   "metadata": {
    "collapsed": false
   },
   "outputs": [],
   "source": [
    "### 2.1、修改index和columns\n",
    "for var in (vCpuUsage,vDiskRead,vDiskWrite,vNwEgress,vNwIngress,vMemUsage):\n",
    "    var.rename(columns={u'资源':'vres',u'类型':'vtype',u'时间':'vtime',u'最大值':'vmax',u'最小值':'vmin',u'平均值':'vavg',u'单位':'vunit'},\n",
    "               inplace = True)\n",
    "    if 'vtime' in var.columns.values:\n",
    "        var.set_index('vtime',inplace=True) \n",
    "\n",
    "### 2.2、初步探索时间序列数据,形成待分析多维数据矩阵X\n",
    "for var in (vCpuUsage,vDiskRead,vDiskWrite,vNwEgress,vNwIngress,vMemUsage):\n",
    "    print(var.head())\n",
    "    print('length :',len(var))\n",
    "\n",
    "X = pd.concat([vCpuUsage.to_period('Min').vavg,\n",
    "               vDiskRead.to_period('Min').vavg,\n",
    "               vDiskWrite.to_period('Min').vavg,\n",
    "               vNwEgress.to_period('Min').vavg,\n",
    "               vNwIngress.to_period('Min').vavg,\n",
    "               vMemUsage.to_period('Min').vavg],axis=1,keys=['vCpuUsage','vDiskRead','vDiskWrite','vNwEgress','vNwIngress','vMemUsage'])\n",
    "\n",
    "### 2.3、对缺失数据进行插值处理\n",
    "#设定初始值后，对NaN进行线性插值\n",
    "X.ix[0,X.ix[0].isnull()]=0\n",
    "X.interpolate(method='time',inplace=True)\n",
    "\n",
    "### 2.4、对CPU 0值数据进行填充\n",
    "for i in range(1,len(X.vCpuUsage)):\n",
    "    if X.vCpuUsage[i]==0:\n",
    "        X.vCpuUsage[i] = X.vCpuUsage[i-1] \n",
    "\n",
    "#保留原始值\n",
    "X_Original=X\n",
    "X.describe()\n",
    "\n",
    "### 2.5、无量纲化\n",
    "from sklearn import preprocessing\n",
    "from sklearn.preprocessing import MinMaxScaler\n",
    "\n",
    "X = DataFrame(MinMaxScaler().fit_transform(X_Original),index=X_Original.index,columns=X_Original.columns)\n",
    "\n",
    "#区间缩放后再将均值0化，这主要是由于部分算法会自行对均值进行处理（比如pca的transform），为避免算法理解上的干扰，调整均值为0\n",
    "X_mean=X.mean()\n",
    "X_std=X.std()\n",
    "X = X-X_mean"
   ]
  },
  {
   "cell_type": "markdown",
   "metadata": {},
   "source": [
    "## 3、PCA降维分析"
   ]
  },
  {
   "cell_type": "code",
   "execution_count": 13,
   "metadata": {
    "collapsed": false
   },
   "outputs": [],
   "source": [
    "from sklearn.decomposition import PCA\n",
    "import numpy.linalg as nlg\n",
    "\n",
    "### 3.1、PCA数据探索\n",
    "X_pca=PCA().fit(X)\n",
    "\n",
    "### 3.2、确定主成分个数\n",
    "#指定主成分的方差和所占的最小比例阈值为0.85\n",
    "X_pca=PCA(n_components=0.85).fit(X)"
   ]
  },
  {
   "cell_type": "markdown",
   "metadata": {},
   "source": [
    "## 4、ICA独立元分析方法的异常检测应用"
   ]
  },
  {
   "cell_type": "code",
   "execution_count": 17,
   "metadata": {
    "collapsed": true
   },
   "outputs": [],
   "source": [
    "### 4.1、ICA\n",
    "from sklearn.decomposition import FastICA\n",
    "\n",
    "X_ica=FastICA(n_components=X_pca.n_components_).fit(X)\n",
    "X_S_=X_ica.transform(X)\n",
    "\n",
    "#各种算法的变量统一，便于后续计算\n",
    "X_ica_mixing_=X_ica.mixing_\n",
    "X_ica_mean_=X_ica.mean_\n",
    "\n",
    "X_ica_recover=DataFrame(np.dot(X_S_,X_ica_mixing_.T)+X_ica_mean_,index=X.index,columns=X.columns)\n",
    "\n",
    "### 4.2、构造T2和SPE统计量\n",
    "#计算T2统计量\n",
    "X_ica_T2=Series(np.sum(X_S_**2,axis=1),index=X.index)\n",
    "\n",
    "#计算SPE统计量\n",
    "X_ica_SPE=Series(np.sum((X-X_ica_recover)**2,axis=1),index=X.index)\n",
    "\n",
    "### 4.3、采用KDE方法，利用置信度确定阈值\n",
    "from scipy import stats\n",
    "\n",
    "def my_kde_bandwidth(obj, fac=1./2):\n",
    "    \"\"\"We use Scott's Rule, multiplied by a constant factor.\"\"\"\n",
    "    return np.power(obj.n, -1./(obj.d+4)) * fac\n",
    "\n",
    "X_ica_T2_scipy_kde=stats.gaussian_kde(X_ica_T2, bw_method=my_kde_bandwidth)\n",
    "X_ica_SPE_scipy_kde=stats.gaussian_kde(X_ica_SPE, bw_method=my_kde_bandwidth)\n",
    "\n",
    "def get_threshold_of_scipy_kde(kde,start,step=1,confidence=0.997):\n",
    "    \"\"\"get threshold by confidence\"\"\"\n",
    "    i = start\n",
    "    cumsum = kde.integrate_box_1d(-np.inf, start)\n",
    "    while True:\n",
    "        if cumsum >= confidence:\n",
    "            break\n",
    "        cumsum = cumsum + kde.integrate_box_1d(i, i+step)\n",
    "        i = i + step\n",
    "        \n",
    "    return i\n",
    "\n",
    "# 通过概率密度函数求解概率时的累加步长设置(中位数与最大值距离100步)\n",
    "X_ica_T2_pdf_step=(X_ica_T2.max()-X_ica_T2.median())/100\n",
    "X_ica_SPE_pdf_step=(X_ica_SPE.max()-X_ica_SPE.median())/100\n",
    "\n",
    "X_ica_T2_threshold=get_threshold_of_scipy_kde(X_ica_T2_scipy_kde,X_ica_T2.min(),step=X_ica_T2_pdf_step,confidence=0.997)\n",
    "X_ica_SPE_threshold=get_threshold_of_scipy_kde(X_ica_SPE_scipy_kde,X_ica_SPE.min(),step=X_ica_SPE_pdf_step,confidence=0.997)\n",
    "\n",
    "### 4.4、检测到的异常时刻\n",
    "\n",
    "#### 4.4.1、T2检测\n",
    "X_ica_T2_anomaly=X_ica_T2[X_ica_T2>X_ica_T2_threshold].index\n",
    "#10min聚合，注意第一个元素的处理\n",
    "indice=pd.Series([True]+list(np.diff(X_ica_T2_anomaly)>10))\n",
    "\n",
    "X_ica_T2_anomaly_start=X_ica_T2_anomaly[indice].tolist()\n",
    "X_ica_T2_anomaly_end=X_ica_T2_anomaly[indice.shift(-1).fillna(False)].tolist()\n",
    "X_ica_T2_anomaly_end.append(X_ica_T2_anomaly[-1])\n",
    "\n",
    "print('anomal periods detected by T2 metric are: ')\n",
    "for each in zip(X_ica_T2_anomaly_start,X_ica_T2_anomaly_end):    \n",
    "    print(each)\n",
    "\n",
    "#### 4.4.2、SPE检测\n",
    "X_ica_SPE_anomaly=X_ica_SPE[X_ica_SPE>X_ica_SPE_threshold].index\n",
    "indice=pd.Series([True]+list(np.diff(X_ica_SPE_anomaly)>10))\n",
    "\n",
    "X_ica_SPE_anomaly_start=X_ica_SPE_anomaly[indice].tolist()\n",
    "X_ica_SPE_anomaly_end=X_ica_SPE_anomaly[indice.shift(-1).fillna(False)].tolist()\n",
    "X_ica_SPE_anomaly_end.append(X_ica_SPE_anomaly[-1])\n",
    "\n",
    "print('anomal periods detected by SPE metric are: ')\n",
    "for each in zip(X_ica_SPE_anomaly_start,X_ica_SPE_anomaly_end):\n",
    "    print(each)"
   ]
  },
  {
   "cell_type": "markdown",
   "metadata": {},
   "source": [
    "## 5、相关性变化分析方法的异常检测应用"
   ]
  },
  {
   "cell_type": "markdown",
   "metadata": {},
   "source": [
    "### 4.1、形成待分析的相关性矩阵"
   ]
  },
  {
   "cell_type": "code",
   "execution_count": 37,
   "metadata": {
    "collapsed": false
   },
   "outputs": [
    {
     "data": {
      "text/html": [
       "<div>\n",
       "<table border=\"1\" class=\"dataframe\">\n",
       "  <thead>\n",
       "    <tr>\n",
       "      <th></th>\n",
       "      <th colspan=\"5\" halign=\"left\">vCpuUsage</th>\n",
       "      <th colspan=\"4\" halign=\"left\">vDiskRead</th>\n",
       "      <th colspan=\"3\" halign=\"left\">vDiskWrite</th>\n",
       "      <th colspan=\"2\" halign=\"left\">vNwEgress</th>\n",
       "      <th>vNwIngress</th>\n",
       "    </tr>\n",
       "    <tr>\n",
       "      <th></th>\n",
       "      <th>vDiskRead</th>\n",
       "      <th>vDiskWrite</th>\n",
       "      <th>vNwEgress</th>\n",
       "      <th>vNwIngress</th>\n",
       "      <th>vMemUsage</th>\n",
       "      <th>vDiskWrite</th>\n",
       "      <th>vNwEgress</th>\n",
       "      <th>vNwIngress</th>\n",
       "      <th>vMemUsage</th>\n",
       "      <th>vNwEgress</th>\n",
       "      <th>vNwIngress</th>\n",
       "      <th>vMemUsage</th>\n",
       "      <th>vNwIngress</th>\n",
       "      <th>vMemUsage</th>\n",
       "      <th>vMemUsage</th>\n",
       "    </tr>\n",
       "    <tr>\n",
       "      <th>vtime</th>\n",
       "      <th></th>\n",
       "      <th></th>\n",
       "      <th></th>\n",
       "      <th></th>\n",
       "      <th></th>\n",
       "      <th></th>\n",
       "      <th></th>\n",
       "      <th></th>\n",
       "      <th></th>\n",
       "      <th></th>\n",
       "      <th></th>\n",
       "      <th></th>\n",
       "      <th></th>\n",
       "      <th></th>\n",
       "      <th></th>\n",
       "    </tr>\n",
       "  </thead>\n",
       "  <tbody>\n",
       "    <tr>\n",
       "      <th>2017-01-01 00:00</th>\n",
       "      <td>7.011061e-05</td>\n",
       "      <td>0.000383</td>\n",
       "      <td>-0.000131</td>\n",
       "      <td>-8.040564e-05</td>\n",
       "      <td>0.001328</td>\n",
       "      <td>1.138929e-07</td>\n",
       "      <td>5.367667e-07</td>\n",
       "      <td>1.245805e-07</td>\n",
       "      <td>6.818070e-06</td>\n",
       "      <td>9.238757e-07</td>\n",
       "      <td>5.737410e-07</td>\n",
       "      <td>-2.676613e-05</td>\n",
       "      <td>1.930543e-06</td>\n",
       "      <td>4.027917e-05</td>\n",
       "      <td>9.625987e-06</td>\n",
       "    </tr>\n",
       "    <tr>\n",
       "      <th>2017-01-01 01:00</th>\n",
       "      <td>1.753272e-04</td>\n",
       "      <td>0.000542</td>\n",
       "      <td>0.000007</td>\n",
       "      <td>-2.366871e-05</td>\n",
       "      <td>-0.002395</td>\n",
       "      <td>2.725698e-06</td>\n",
       "      <td>-1.348812e-07</td>\n",
       "      <td>-1.063438e-07</td>\n",
       "      <td>-5.745543e-06</td>\n",
       "      <td>-1.201900e-06</td>\n",
       "      <td>-4.701954e-07</td>\n",
       "      <td>-2.474204e-05</td>\n",
       "      <td>4.637962e-07</td>\n",
       "      <td>8.014652e-06</td>\n",
       "      <td>2.587749e-06</td>\n",
       "    </tr>\n",
       "    <tr>\n",
       "      <th>2017-01-01 02:00</th>\n",
       "      <td>1.825234e-04</td>\n",
       "      <td>0.000746</td>\n",
       "      <td>0.000202</td>\n",
       "      <td>7.149853e-05</td>\n",
       "      <td>0.000920</td>\n",
       "      <td>3.947693e-06</td>\n",
       "      <td>1.840476e-07</td>\n",
       "      <td>4.519830e-08</td>\n",
       "      <td>3.972411e-07</td>\n",
       "      <td>6.252158e-07</td>\n",
       "      <td>3.061133e-07</td>\n",
       "      <td>2.904819e-06</td>\n",
       "      <td>2.246766e-07</td>\n",
       "      <td>1.267001e-06</td>\n",
       "      <td>4.473813e-07</td>\n",
       "    </tr>\n",
       "    <tr>\n",
       "      <th>2017-01-01 03:02</th>\n",
       "      <td>1.337451e-36</td>\n",
       "      <td>-0.000014</td>\n",
       "      <td>-0.000014</td>\n",
       "      <td>-2.779798e-08</td>\n",
       "      <td>0.000200</td>\n",
       "      <td>-2.659704e-38</td>\n",
       "      <td>-4.331519e-37</td>\n",
       "      <td>-1.671814e-37</td>\n",
       "      <td>5.775358e-37</td>\n",
       "      <td>1.296040e-07</td>\n",
       "      <td>5.751788e-08</td>\n",
       "      <td>9.162840e-08</td>\n",
       "      <td>1.276061e-07</td>\n",
       "      <td>4.372578e-08</td>\n",
       "      <td>7.923193e-09</td>\n",
       "    </tr>\n",
       "    <tr>\n",
       "      <th>2017-01-01 04:04</th>\n",
       "      <td>-3.282835e-36</td>\n",
       "      <td>-0.000027</td>\n",
       "      <td>0.000023</td>\n",
       "      <td>1.958872e-05</td>\n",
       "      <td>0.000240</td>\n",
       "      <td>9.498944e-39</td>\n",
       "      <td>1.519831e-38</td>\n",
       "      <td>-4.559493e-37</td>\n",
       "      <td>-6.079324e-38</td>\n",
       "      <td>1.730693e-07</td>\n",
       "      <td>4.844790e-08</td>\n",
       "      <td>2.681770e-07</td>\n",
       "      <td>4.316578e-08</td>\n",
       "      <td>2.175536e-07</td>\n",
       "      <td>8.163219e-08</td>\n",
       "    </tr>\n",
       "  </tbody>\n",
       "</table>\n",
       "</div>"
      ],
      "text/plain": [
       "                     vCpuUsage                                               \\\n",
       "                     vDiskRead vDiskWrite vNwEgress    vNwIngress vMemUsage   \n",
       "vtime                                                                         \n",
       "2017-01-01 00:00  7.011061e-05   0.000383 -0.000131 -8.040564e-05  0.001328   \n",
       "2017-01-01 01:00  1.753272e-04   0.000542  0.000007 -2.366871e-05 -0.002395   \n",
       "2017-01-01 02:00  1.825234e-04   0.000746  0.000202  7.149853e-05  0.000920   \n",
       "2017-01-01 03:02  1.337451e-36  -0.000014 -0.000014 -2.779798e-08  0.000200   \n",
       "2017-01-01 04:04 -3.282835e-36  -0.000027  0.000023  1.958872e-05  0.000240   \n",
       "\n",
       "                     vDiskRead                                            \\\n",
       "                    vDiskWrite     vNwEgress    vNwIngress     vMemUsage   \n",
       "vtime                                                                      \n",
       "2017-01-01 00:00  1.138929e-07  5.367667e-07  1.245805e-07  6.818070e-06   \n",
       "2017-01-01 01:00  2.725698e-06 -1.348812e-07 -1.063438e-07 -5.745543e-06   \n",
       "2017-01-01 02:00  3.947693e-06  1.840476e-07  4.519830e-08  3.972411e-07   \n",
       "2017-01-01 03:02 -2.659704e-38 -4.331519e-37 -1.671814e-37  5.775358e-37   \n",
       "2017-01-01 04:04  9.498944e-39  1.519831e-38 -4.559493e-37 -6.079324e-38   \n",
       "\n",
       "                    vDiskWrite                                 vNwEgress  \\\n",
       "                     vNwEgress    vNwIngress     vMemUsage    vNwIngress   \n",
       "vtime                                                                      \n",
       "2017-01-01 00:00  9.238757e-07  5.737410e-07 -2.676613e-05  1.930543e-06   \n",
       "2017-01-01 01:00 -1.201900e-06 -4.701954e-07 -2.474204e-05  4.637962e-07   \n",
       "2017-01-01 02:00  6.252158e-07  3.061133e-07  2.904819e-06  2.246766e-07   \n",
       "2017-01-01 03:02  1.296040e-07  5.751788e-08  9.162840e-08  1.276061e-07   \n",
       "2017-01-01 04:04  1.730693e-07  4.844790e-08  2.681770e-07  4.316578e-08   \n",
       "\n",
       "                                  vNwIngress  \n",
       "                     vMemUsage     vMemUsage  \n",
       "vtime                                         \n",
       "2017-01-01 00:00  4.027917e-05  9.625987e-06  \n",
       "2017-01-01 01:00  8.014652e-06  2.587749e-06  \n",
       "2017-01-01 02:00  1.267001e-06  4.473813e-07  \n",
       "2017-01-01 03:02  4.372578e-08  7.923193e-09  \n",
       "2017-01-01 04:04  2.175536e-07  8.163219e-08  "
      ]
     },
     "execution_count": 37,
     "metadata": {},
     "output_type": "execute_result"
    }
   ],
   "source": [
    "# DataFrame X(n*m),n:sample;m:dimention\n",
    "def get_multiindex(X):\n",
    "    dim=int(X.shape[1]*(X.shape[1]-1)/2)\n",
    "    multiindex=[0]*dim\n",
    "    count=0\n",
    "    for j in range(X.shape[1]):\n",
    "        for k in range(j+1,X.shape[1]):\n",
    "            multiindex[count]=(X.columns[j],X.columns[k])\n",
    "            count=count+1\n",
    "    return multiindex\n",
    "\n",
    "#默认窗口win个点，每次移动的步长是step，重叠部分为win-step\n",
    "def get_X_cov_values_by_win(X,win,step):\n",
    "    irow=int(X.shape[0]/step)\n",
    "    if X.shape[0]-irow*step>0:\n",
    "        irow=irow+1\n",
    "    icolumn=int(X.shape[1]*(X.shape[1]-1)/2)    \n",
    "    X_cov_values = np.empty([irow, icolumn])\n",
    "    \n",
    "    for i in range(irow):    \n",
    "        istep=i*step\n",
    "        X_win=X[istep:istep+win] if (istep+win)<X.shape[0] else X[i:]\n",
    "        \n",
    "        X_win_cov=X_win.cov().fillna(0)\n",
    "        count=0\n",
    "        for j in range(len(X_win_cov)):\n",
    "            for k in range(j+1,len(X_win_cov)):\n",
    "                X_cov_values[i,count]=X_win_cov.ix[j,k]\n",
    "                count=count+1    \n",
    "    \n",
    "    return X_cov_values            \n",
    "\n",
    "#形成相关性矩阵\n",
    "win=100\n",
    "step=60\n",
    "X_win_cov_values = get_X_cov_values_by_win(X,win,step)\n",
    "X_win_cov_multiindex_1,X_win_cov_multiindex_2=zip(*get_multiindex(X))\n",
    "X_win_cov=DataFrame(X_win_cov_values,index=X.index[::step],columns=[list(X_win_cov_multiindex_1),list(X_win_cov_multiindex_2)]) \n",
    "X_win_cov.head()"
   ]
  },
  {
   "cell_type": "markdown",
   "metadata": {},
   "source": [
    "### 4.2、PCA"
   ]
  },
  {
   "cell_type": "code",
   "execution_count": 38,
   "metadata": {
    "collapsed": false
   },
   "outputs": [
    {
     "name": "stdout",
     "output_type": "stream",
     "text": [
      "anomal periods detected by T2 metric are: \n",
      "(Period('2017-01-18 09:04', 'T'), Period('2017-01-18 10:44', 'T'))\n",
      "(Period('2017-01-21 14:13', 'T'), Period('2017-01-21 15:53', 'T'))\n",
      "(Period('2017-02-15 14:43', 'T'), Period('2017-02-15 16:23', 'T'))\n",
      "anomal periods detected by SPE metric are: \n",
      "(Period('2017-01-15 09:52', 'T'), Period('2017-01-15 11:32', 'T'))\n",
      "(Period('2017-01-15 10:58', 'T'), Period('2017-01-15 12:38', 'T'))\n",
      "(Period('2017-01-16 09:24', 'T'), Period('2017-01-16 11:04', 'T'))\n",
      "(Period('2017-01-16 10:29', 'T'), Period('2017-01-16 12:09', 'T'))\n"
     ]
    },
    {
     "data": {
      "image/png": "[encoded data removed]",
      "text/plain": [
       "<matplotlib.figure.Figure at 0x7f5b271f0a20>"
      ]
     },
     "metadata": {},
     "output_type": "display_data"
    }
   ],
   "source": [
    "X_win_cov_pca=PCA(n_components=0.85).fit(X_win_cov)\n",
    "X_win_cov_pca_recover=DataFrame(np.dot(X_win_cov,np.dot(X_win_cov_pca.components_.T,X_win_cov_pca.components_)),\n",
    "                                index=X_win_cov.index,columns=X_win_cov.columns)\n",
    "\n",
    "#计算T2统计量\n",
    "X_win_cov_pca_T2=Series([np.dot(np.dot(np.dot(np.dot(X_win_cov.ix[i].T,X_win_cov_pca.components_.T),\n",
    "                                              nlg.inv(np.diag(X_win_cov_pca.explained_variance_))),X_win_cov_pca.components_),X_win_cov.ix[i]) \n",
    "                         for i in np.arange(len(X_win_cov))],index=X_win_cov.index)\n",
    "#计算SPE统计量\n",
    "X_win_cov_pca_SPE=Series(np.sum((X_win_cov-X_win_cov_pca_recover)**2,axis=1),index=X_win_cov.index)\n",
    "\n",
    "# 通过概率密度函数求解概率时的累加步长设置(中位数与最大值距离100步)\n",
    "X_win_cov_pca_T2_pdf_step=(X_win_cov_pca_T2.max()-X_win_cov_pca_T2.median())/100\n",
    "X_win_cov_pca_SPE_pdf_step=(X_win_cov_pca_SPE.max()-X_win_cov_pca_SPE.median())/100\n",
    "\n",
    "#kde及阈值估计\n",
    "X_win_cov_pca_T2_scipy_kde=stats.gaussian_kde(X_win_cov_pca_T2, bw_method=my_kde_bandwidth)\n",
    "X_win_cov_pca_SPE_scipy_kde=stats.gaussian_kde(X_win_cov_pca_SPE, bw_method=my_kde_bandwidth)\n",
    "X_win_cov_pca_T2_threshold=get_threshold_of_scipy_kde(X_win_cov_pca_T2_scipy_kde,X_win_cov_pca_T2.min(),step=X_win_cov_pca_T2_pdf_step,confidence=0.997)\n",
    "X_win_cov_pca_SPE_threshold=get_threshold_of_scipy_kde(X_win_cov_pca_SPE_scipy_kde,X_win_cov_pca_SPE.min(),step=X_win_cov_pca_SPE_pdf_step,confidence=0.997)\n",
    "\n",
    "#绘图\n",
    "plt.subplot(211)\n",
    "plt.plot(X_win_cov_pca_T2.values,label='PCA-T2')\n",
    "plt.plot(X_win_cov_pca_T2_threshold*np.ones(len(X_win_cov_pca_T2)),'r--')\n",
    "plt.legend(loc='best')\n",
    "plt.subplot(212)\n",
    "plt.plot(X_win_cov_pca_SPE.values,label='PCA-SPE')\n",
    "plt.plot(X_win_cov_pca_SPE_threshold*np.ones(len(X_win_cov_pca_SPE)),'r--')\n",
    "plt.legend(loc='best')\n",
    "\n",
    "#输出异常时间段\n",
    "X_win_cov_pca_T2_anomaly=X_win_cov_pca_T2[X_win_cov_pca_T2>X_win_cov_pca_T2_threshold].index\n",
    "print('anomal periods detected by T2 metric are: ')\n",
    "for each in zip(X_win_cov_pca_T2_anomaly,X_win_cov_pca_T2_anomaly+win):\n",
    "    print(each)\n",
    "print('anomal periods detected by SPE metric are: ')\n",
    "X_win_cov_pca_SPE_anomaly=X_win_cov_pca_SPE[X_win_cov_pca_SPE>X_win_cov_pca_SPE_threshold].index\n",
    "for each in zip(X_win_cov_pca_SPE_anomaly,X_win_cov_pca_SPE_anomaly+win):\n",
    "    print(each)"
   ]
  },
  {
   "cell_type": "markdown",
   "metadata": {},
   "source": [
    "### 4.2、ICA"
   ]
  },
  {
   "cell_type": "code",
   "execution_count": 39,
   "metadata": {
    "collapsed": false
   },
   "outputs": [
    {
     "name": "stdout",
     "output_type": "stream",
     "text": [
      "anomal periods detected by T2 metric are: \n",
      "(Period('2017-01-18 09:04', 'T'), Period('2017-01-18 10:44', 'T'))\n",
      "(Period('2017-01-21 14:13', 'T'), Period('2017-01-21 15:53', 'T'))\n",
      "(Period('2017-01-21 15:18', 'T'), Period('2017-01-21 16:58', 'T'))\n",
      "anomal periods detected by SPE metric are: \n",
      "(Period('2017-01-15 09:52', 'T'), Period('2017-01-15 11:32', 'T'))\n",
      "(Period('2017-01-15 10:58', 'T'), Period('2017-01-15 12:38', 'T'))\n",
      "(Period('2017-01-16 09:24', 'T'), Period('2017-01-16 11:04', 'T'))\n",
      "(Period('2017-02-15 14:43', 'T'), Period('2017-02-15 16:23', 'T'))\n"
     ]
    },
    {
     "data": {
      "image/png": "[encoded data removed]",
      "text/plain": [
       "<matplotlib.figure.Figure at 0x7f5b271d4710>"
      ]
     },
     "metadata": {},
     "output_type": "display_data"
    }
   ],
   "source": [
    "n=X_pca.n_components_\n",
    "X_win_cov_ica=FastICA(n_components=n).fit(X_win_cov)\n",
    "X_win_cov_S_=X_win_cov_ica.transform(X_win_cov)\n",
    "X_win_cov_ica_recover=DataFrame(np.dot(X_win_cov_S_,X_win_cov_ica.mixing_.T)+X_win_cov_ica.mean_,\n",
    "                                index=X_win_cov.index,columns=X_win_cov.columns)\n",
    "\n",
    "#计算T2统计量\n",
    "X_win_cov_ica_T2=Series(np.sum(X_win_cov_S_**2,axis=1),index=X_win_cov.index)\n",
    "#计算SPE统计量\n",
    "X_win_cov_ica_SPE=Series(np.sum((X_win_cov-X_win_cov_ica_recover)**2,axis=1),index=X_win_cov.index)\n",
    "\n",
    "# 通过概率密度函数求解概率时的累加步长设置(中位数与最大值距离100步)\n",
    "X_win_cov_ica_T2_pdf_step=(X_win_cov_ica_T2.max()-X_win_cov_ica_T2.median())/100\n",
    "X_win_cov_ica_SPE_pdf_step=(X_win_cov_ica_SPE.max()-X_win_cov_ica_SPE.median())/100\n",
    "\n",
    "#kde及阈值估计\n",
    "X_win_cov_ica_T2_scipy_kde=stats.gaussian_kde(X_win_cov_ica_T2, bw_method=my_kde_bandwidth)\n",
    "X_win_cov_ica_SPE_scipy_kde=stats.gaussian_kde(X_win_cov_ica_SPE, bw_method=my_kde_bandwidth)\n",
    "X_win_cov_ica_T2_threshold=get_threshold_of_scipy_kde(X_win_cov_ica_T2_scipy_kde,X_win_cov_ica_T2.min(),step=X_win_cov_ica_T2_pdf_step,confidence=0.997)\n",
    "X_win_cov_ica_SPE_threshold=get_threshold_of_scipy_kde(X_win_cov_ica_SPE_scipy_kde,X_win_cov_ica_SPE.min(),step=X_win_cov_ica_SPE_pdf_step,confidence=0.997)\n",
    "\n",
    "#绘图\n",
    "plt.subplot(211)\n",
    "plt.plot(X_win_cov_ica_T2.values,label='ICA-T2')\n",
    "plt.plot(X_win_cov_ica_T2_threshold*np.ones(len(X_win_cov_ica_T2)),'r--')\n",
    "plt.legend(loc='best')\n",
    "plt.subplot(212)\n",
    "plt.plot(X_win_cov_ica_SPE.values,label='ICA-SPE')\n",
    "plt.plot(X_win_cov_ica_SPE_threshold*np.ones(len(X_win_cov_ica_SPE)),'r--')\n",
    "plt.legend(loc='best')\n",
    "\n",
    "#输出异常时间段\n",
    "X_win_cov_ica_T2_anomaly=X_win_cov_ica_T2[X_win_cov_ica_T2>X_win_cov_ica_T2_threshold].index\n",
    "print('anomal periods detected by T2 metric are: ')\n",
    "for each in zip(X_win_cov_ica_T2_anomaly,X_win_cov_ica_T2_anomaly+win):\n",
    "    print(each)\n",
    "print('anomal periods detected by SPE metric are: ')\n",
    "X_win_cov_ica_SPE_anomaly=X_win_cov_ica_SPE[X_win_cov_ica_SPE>X_win_cov_ica_SPE_threshold].index\n",
    "for each in zip(X_win_cov_ica_SPE_anomaly,X_win_cov_ica_SPE_anomaly+win):\n",
    "    print(each)"
   ]
  }
 ],
 "metadata": {
  "kernelspec": {
   "display_name": "Python 3",
   "language": "python",
   "name": "python3"
  },
  "language_info": {
   "codemirror_mode": {
    "name": "ipython",
    "version": 3
   },
   "file_extension": ".py",
   "mimetype": "text/x-python",
   "name": "python",
   "nbconvert_exporter": "python",
   "pygments_lexer": "ipython3",
   "version": "3.5.1"
  }
 },
 "nbformat": 4,
 "nbformat_minor": 0
}
